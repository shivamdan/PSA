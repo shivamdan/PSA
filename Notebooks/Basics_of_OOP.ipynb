{
  "nbformat": 4,
  "nbformat_minor": 0,
  "metadata": {
    "colab": {
      "provenance": []
    },
    "kernelspec": {
      "name": "python3",
      "display_name": "Python 3"
    },
    "language_info": {
      "name": "python"
    }
  },
  "cells": [
    {
      "cell_type": "markdown",
      "source": [
        "# Build A Rocket using Object Oriented Programming"
      ],
      "metadata": {
        "id": "PGF7WCW27aH2"
      }
    },
    {
      "cell_type": "markdown",
      "source": [
        "class that does nothing"
      ],
      "metadata": {
        "id": "Ha4cEH2zBbZT"
      }
    },
    {
      "cell_type": "code",
      "execution_count": 1,
      "metadata": {
        "id": "SBtH8iys6cJn"
      },
      "outputs": [],
      "source": [
        "class Rocket():\n",
        "  pass"
      ]
    },
    {
      "cell_type": "markdown",
      "source": [
        "add attributes to the Rocket class\n",
        "* add x and y coordinates and set them both to 0"
      ],
      "metadata": {
        "id": "owyNB0OkBzBA"
      }
    },
    {
      "cell_type": "code",
      "source": [
        "class Rocket():\n",
        "  def __init__(self):\n",
        "    self.x = 0\n",
        "    self.y = 0"
      ],
      "metadata": {
        "id": "ZDkqfi3UBmlD"
      },
      "execution_count": 2,
      "outputs": []
    },
    {
      "cell_type": "code",
      "source": [
        "# create an object of class Rocket\n",
        "rocket1 = Rocket()"
      ],
      "metadata": {
        "id": "OXK_QXlEC5u6"
      },
      "execution_count": 4,
      "outputs": []
    },
    {
      "cell_type": "code",
      "source": [
        "type(rocket1)"
      ],
      "metadata": {
        "colab": {
          "base_uri": "https://localhost:8080/",
          "height": 103
        },
        "id": "AmF14HTnDHb5",
        "outputId": "f053216e-dddd-464a-f67d-971285893dab"
      },
      "execution_count": 5,
      "outputs": [
        {
          "output_type": "execute_result",
          "data": {
            "text/plain": [
              "__main__.Rocket"
            ],
            "text/html": [
              "<div style=\"max-width:800px; border: 1px solid var(--colab-border-color);\"><style>\n",
              "      pre.function-repr-contents {\n",
              "        overflow-x: auto;\n",
              "        padding: 8px 12px;\n",
              "        max-height: 500px;\n",
              "      }\n",
              "\n",
              "      pre.function-repr-contents.function-repr-contents-collapsed {\n",
              "        cursor: pointer;\n",
              "        max-height: 100px;\n",
              "      }\n",
              "    </style>\n",
              "    <pre style=\"white-space: initial; background:\n",
              "         var(--colab-secondary-surface-color); padding: 8px 12px;\n",
              "         border-bottom: 1px solid var(--colab-border-color);\"><b>Rocket</b><br/>def __init__()</pre><pre class=\"function-repr-contents function-repr-contents-collapsed\" style=\"\"><a class=\"filepath\" style=\"display:none\" href=\"#\"></a>&lt;no docstring&gt;</pre></div>"
            ]
          },
          "metadata": {},
          "execution_count": 5
        }
      ]
    },
    {
      "cell_type": "code",
      "source": [
        "print(f'X Coordinate of the rocket is : {rocket1.x}')\n",
        "print(f'Y Coordinate of the rocket is : {rocket1.y}')"
      ],
      "metadata": {
        "colab": {
          "base_uri": "https://localhost:8080/"
        },
        "id": "r5I-u3BMDpMW",
        "outputId": "df46489b-1ebc-437c-edc8-975376274400"
      },
      "execution_count": 6,
      "outputs": [
        {
          "output_type": "stream",
          "name": "stdout",
          "text": [
            "X Coordinate of the rocket is : 0\n",
            "Y Coordinate of the rocket is : 0\n"
          ]
        }
      ]
    },
    {
      "cell_type": "code",
      "source": [
        "class Rocket():\n",
        "  def __init__(self):\n",
        "    self.x = 0\n",
        "    self.y = 0\n",
        "\n",
        "  def moveUp(self):\n",
        "    self.y += 1;"
      ],
      "metadata": {
        "id": "V9EJ63a3ELu0"
      },
      "execution_count": 9,
      "outputs": []
    },
    {
      "cell_type": "code",
      "source": [
        "# Make orion rocket\n",
        "orion = Rocket()\n",
        "print(f'Current Position of Orion :- {(orion.x, orion.y)}')\n",
        "\n",
        "orion.moveUp()\n",
        "print(f'Current Position of Orion :- {(orion.x, orion.y)}')"
      ],
      "metadata": {
        "colab": {
          "base_uri": "https://localhost:8080/"
        },
        "id": "l1jnwgIsEYyz",
        "outputId": "55dbe21d-96d8-4024-97a1-580271dad211"
      },
      "execution_count": 10,
      "outputs": [
        {
          "output_type": "stream",
          "name": "stdout",
          "text": [
            "Current Position of Orion :- (0, 0)\n",
            "Current Position of Orion :- (0, 1)\n"
          ]
        }
      ]
    },
    {
      "cell_type": "markdown",
      "source": [
        "# Build More Rockets"
      ],
      "metadata": {
        "id": "gyq-wqdVFCcb"
      }
    },
    {
      "cell_type": "code",
      "source": [
        "orchid = Rocket()\n",
        "rohan = Rocket()\n",
        "\n",
        "for obj in (orion, orchid, rohan):\n",
        "  print(obj)"
      ],
      "metadata": {
        "colab": {
          "base_uri": "https://localhost:8080/"
        },
        "id": "Gg_I1kDuEnql",
        "outputId": "7a658136-0e87-43af-9514-aa55edd796eb"
      },
      "execution_count": 12,
      "outputs": [
        {
          "output_type": "stream",
          "name": "stdout",
          "text": [
            "<__main__.Rocket object at 0x7e234ff485e0>\n",
            "<__main__.Rocket object at 0x7e236bf28f70>\n",
            "<__main__.Rocket object at 0x7e236bf2bfd0>\n"
          ]
        }
      ]
    },
    {
      "cell_type": "code",
      "source": [
        "for obj, name in (zip((orion, orchid, rohan), ('Orion', 'Orchid', 'Rohan'))):\n",
        "  print(f'The {name} is at {(obj.x, obj.y)}')"
      ],
      "metadata": {
        "colab": {
          "base_uri": "https://localhost:8080/"
        },
        "id": "HL5PN806JhlD",
        "outputId": "f4a44260-1591-4a13-cf29-c5a218995f8e"
      },
      "execution_count": 13,
      "outputs": [
        {
          "output_type": "stream",
          "name": "stdout",
          "text": [
            "The Orion is at (0, 1)\n",
            "The Orchid is at (0, 0)\n",
            "The Rohan is at (0, 0)\n"
          ]
        }
      ]
    },
    {
      "cell_type": "markdown",
      "source": [
        "# Customize the existing rocket class"
      ],
      "metadata": {
        "id": "pgiqLlJGK7X9"
      }
    },
    {
      "cell_type": "code",
      "source": [
        "class Rocket():\n",
        "  def __init__(self, x = 0, y = 0):\n",
        "    self.x = x\n",
        "    self.y = y\n",
        "\n",
        "  def moveRocket(self, xIncrement, yIncrement):\n",
        "    self.x += xIncrement\n",
        "    self.y += yIncrement"
      ],
      "metadata": {
        "id": "nhnNCNlDKI2t"
      },
      "execution_count": 23,
      "outputs": []
    },
    {
      "cell_type": "code",
      "source": [
        "rocket2 = Rocket(10, 0)\n",
        "print(f'{rocket2.x, rocket2.y}')"
      ],
      "metadata": {
        "colab": {
          "base_uri": "https://localhost:8080/"
        },
        "id": "w-EkNTe6LGCH",
        "outputId": "6f3eb917-f831-4eda-9ce3-3773a98df13d"
      },
      "execution_count": 24,
      "outputs": [
        {
          "output_type": "stream",
          "name": "stdout",
          "text": [
            "(10, 0)\n"
          ]
        }
      ]
    },
    {
      "cell_type": "code",
      "source": [
        "rocket3 = Rocket()\n",
        "print(f'{rocket3.x, rocket3.y}')"
      ],
      "metadata": {
        "colab": {
          "base_uri": "https://localhost:8080/"
        },
        "id": "5_t1UFYoLYgo",
        "outputId": "952c8dec-ae69-4633-ee1c-5e75ad97c61f"
      },
      "execution_count": 22,
      "outputs": [
        {
          "output_type": "stream",
          "name": "stdout",
          "text": [
            "(0, 0)\n"
          ]
        }
      ]
    },
    {
      "cell_type": "code",
      "source": [
        "rocket2.moveRocket(0,100)\n",
        "print(f'{rocket2.x, rocket2.y}')"
      ],
      "metadata": {
        "colab": {
          "base_uri": "https://localhost:8080/"
        },
        "id": "uWKYH9nvLlwG",
        "outputId": "70166252-bab6-4e2a-a547-5bd84bb6a8c3"
      },
      "execution_count": 25,
      "outputs": [
        {
          "output_type": "stream",
          "name": "stdout",
          "text": [
            "(10, 100)\n"
          ]
        }
      ]
    },
    {
      "cell_type": "markdown",
      "source": [
        "# Add another method to rocket class that calculates the distance between 2 rockets"
      ],
      "metadata": {
        "id": "N0itekMNOfqL"
      }
    },
    {
      "cell_type": "code",
      "source": [
        "class Rocket():\n",
        "  def __init__(self, x = 0, y = 0):\n",
        "    self.x = x\n",
        "    self.y = y\n",
        "\n",
        "  def moveRocket(self, xIncrement, yIncrement):\n",
        "    self.x += xIncrement\n",
        "    self.y += yIncrement\n",
        "\n",
        "  def getDistance(self, other_rocket):\n",
        "    x_diff = self.x-other_rocket.x;\n",
        "    y_diff = self.y-other_rocket.y;\n",
        "    distance = (x_diff**2 + y_diff**2)**0.5\n",
        "    return round(distance, 3)"
      ],
      "metadata": {
        "id": "wQlBEErlOqkp"
      },
      "execution_count": 1,
      "outputs": []
    },
    {
      "cell_type": "code",
      "source": [
        "rocket4 = Rocket(-10, 0)\n",
        "rocket5 = Rocket(0,0)\n",
        "\n",
        "dist45 = rocket4.getDistance(rocket5)\n",
        "print(f'the distance from rocket 4 to rocket 5 is {dist45}')"
      ],
      "metadata": {
        "colab": {
          "base_uri": "https://localhost:8080/"
        },
        "id": "Z2fwX00Yz0G2",
        "outputId": "ff120ed7-ff2c-4257-87a5-e4ed2b0b7a42"
      },
      "execution_count": 2,
      "outputs": [
        {
          "output_type": "stream",
          "name": "stdout",
          "text": [
            "the distance from rocket 4 to rocket 5 is 10.0\n"
          ]
        }
      ]
    },
    {
      "cell_type": "code",
      "source": [
        "rocket4.moveRocket(-5, 10)\n",
        "rocket5.moveRocket(0,15)\n",
        "\n",
        "dist45 = rocket4.getDistance(rocket5)\n",
        "print(f'the new distance from rocket 4 to rocket 5 is {dist45}')"
      ],
      "metadata": {
        "colab": {
          "base_uri": "https://localhost:8080/"
        },
        "id": "UfQyhXZU0d8G",
        "outputId": "c338c788-be59-4a25-a310-d8aa2f7515aa"
      },
      "execution_count": 3,
      "outputs": [
        {
          "output_type": "stream",
          "name": "stdout",
          "text": [
            "the new distance from rocket 4 to rocket 5 is 15.811\n"
          ]
        }
      ]
    }
  ]
}