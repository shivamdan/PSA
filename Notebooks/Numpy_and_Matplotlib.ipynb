{
  "nbformat": 4,
  "nbformat_minor": 0,
  "metadata": {
    "colab": {
      "provenance": []
    },
    "kernelspec": {
      "name": "python3",
      "display_name": "Python 3"
    },
    "language_info": {
      "name": "python"
    }
  },
  "cells": [
    {
      "cell_type": "code",
      "execution_count": 3,
      "metadata": {
        "id": "lBYkPc6gMKzU"
      },
      "outputs": [],
      "source": [
        "import numpy as np\n",
        "import matplotlib.pyplot as plt"
      ]
    },
    {
      "cell_type": "markdown",
      "source": [
        "Convert a list into numpy array"
      ],
      "metadata": {
        "id": "MePDrbcRSuOG"
      }
    },
    {
      "cell_type": "code",
      "source": [
        "lst = [1,2,3,4,6,9,0]\n",
        "print(type(lst))\n",
        "arr = np.array(lst)\n",
        "print(type(arr))"
      ],
      "metadata": {
        "colab": {
          "base_uri": "https://localhost:8080/"
        },
        "id": "-L_a7uq3SyRB",
        "outputId": "9a2666ca-6179-4a07-d634-e18450d13cc8"
      },
      "execution_count": 4,
      "outputs": [
        {
          "output_type": "stream",
          "name": "stdout",
          "text": [
            "<class 'list'>\n",
            "<class 'numpy.ndarray'>\n"
          ]
        }
      ]
    },
    {
      "cell_type": "code",
      "source": [
        "# Creating 1D array\n",
        "arr1 = np.array([1,2,3,4,5])\n",
        "print(arr1)\n",
        "# Check the data type\n",
        "arr1.dtype"
      ],
      "metadata": {
        "colab": {
          "base_uri": "https://localhost:8080/"
        },
        "id": "sMUPGIlrS9nV",
        "outputId": "a6fc4eac-549b-446b-8d49-0856028f794c"
      },
      "execution_count": 5,
      "outputs": [
        {
          "output_type": "stream",
          "name": "stdout",
          "text": [
            "[1 2 3 4 5]\n"
          ]
        },
        {
          "output_type": "execute_result",
          "data": {
            "text/plain": [
              "dtype('int64')"
            ]
          },
          "metadata": {},
          "execution_count": 5
        }
      ]
    },
    {
      "cell_type": "code",
      "source": [
        "# Checking the dimension of the array\n",
        "arr1.ndim"
      ],
      "metadata": {
        "colab": {
          "base_uri": "https://localhost:8080/"
        },
        "id": "npX7DDATTrHB",
        "outputId": "359d537d-63cd-4634-8d6c-5bbe65794fbd"
      },
      "execution_count": 6,
      "outputs": [
        {
          "output_type": "execute_result",
          "data": {
            "text/plain": [
              "1"
            ]
          },
          "metadata": {},
          "execution_count": 6
        }
      ]
    },
    {
      "cell_type": "code",
      "source": [
        "# Creating a 2D array with 1 row and 5 cols\n",
        "arr2 = np.array([[1,2,3,4,5]])"
      ],
      "metadata": {
        "id": "qEc61tD3T6vD"
      },
      "execution_count": 7,
      "outputs": []
    },
    {
      "cell_type": "code",
      "source": [
        "arr2.ndim"
      ],
      "metadata": {
        "colab": {
          "base_uri": "https://localhost:8080/"
        },
        "id": "A5_0jhjKUoXC",
        "outputId": "690132b5-79d6-4dc9-e156-6ae0b3cee661"
      },
      "execution_count": 8,
      "outputs": [
        {
          "output_type": "execute_result",
          "data": {
            "text/plain": [
              "2"
            ]
          },
          "metadata": {},
          "execution_count": 8
        }
      ]
    },
    {
      "cell_type": "code",
      "source": [
        "# Checking the shape of arr1 and arr2\n",
        "print(arr1.shape)\n",
        "print(arr2.shape)"
      ],
      "metadata": {
        "colab": {
          "base_uri": "https://localhost:8080/"
        },
        "id": "sDkZSg3vUyXd",
        "outputId": "5ca782bc-5027-490c-f27a-455669431cf2"
      },
      "execution_count": 9,
      "outputs": [
        {
          "output_type": "stream",
          "name": "stdout",
          "text": [
            "(5,)\n",
            "(1, 5)\n"
          ]
        }
      ]
    },
    {
      "cell_type": "code",
      "source": [
        "# Create a 2D array of shape 3x3 with values in between 1 to 9 (must be float)\n",
        "arr3 = np.array([[1,2,3],\n",
        "                 [4,5,6],\n",
        "                 [7,8,9]],dtype = np.float64)"
      ],
      "metadata": {
        "id": "Cfl15XfYVJWf"
      },
      "execution_count": 10,
      "outputs": []
    },
    {
      "cell_type": "code",
      "source": [
        "# Check the shape, dim, dtype of arr3\n",
        "print(arr3.shape)\n",
        "print(arr3.ndim)\n",
        "print(arr3.dtype)"
      ],
      "metadata": {
        "colab": {
          "base_uri": "https://localhost:8080/"
        },
        "id": "0HKvNDAfXj7z",
        "outputId": "1d218af5-29a1-44d3-ae42-b0828a98826e"
      },
      "execution_count": 11,
      "outputs": [
        {
          "output_type": "stream",
          "name": "stdout",
          "text": [
            "(3, 3)\n",
            "2\n",
            "float64\n"
          ]
        }
      ]
    },
    {
      "cell_type": "markdown",
      "source": [
        "# Different ways to create Numpy Arrays"
      ],
      "metadata": {
        "id": "hW6DvzZQZBmO"
      }
    },
    {
      "cell_type": "code",
      "source": [
        "# Arange function\n",
        "arange_arr = np.arange(1,10,1)"
      ],
      "metadata": {
        "id": "tpdHyukdZAxf"
      },
      "execution_count": 12,
      "outputs": []
    },
    {
      "cell_type": "code",
      "source": [
        "# Reshape this array to 3x3\n",
        "reshaped_array = arange_arr.reshape(3,3)\n",
        "reshaped_array"
      ],
      "metadata": {
        "colab": {
          "base_uri": "https://localhost:8080/"
        },
        "id": "sIJUukIXZRDe",
        "outputId": "68daf2c3-538e-4311-df00-7a79bc49c0d6"
      },
      "execution_count": 13,
      "outputs": [
        {
          "output_type": "execute_result",
          "data": {
            "text/plain": [
              "array([[1, 2, 3],\n",
              "       [4, 5, 6],\n",
              "       [7, 8, 9]])"
            ]
          },
          "metadata": {},
          "execution_count": 13
        }
      ]
    },
    {
      "cell_type": "code",
      "source": [
        "# Check the datatype of the reshaped array\n",
        "reshaped_array.dtype"
      ],
      "metadata": {
        "colab": {
          "base_uri": "https://localhost:8080/"
        },
        "id": "rPMVwvbwZ4fB",
        "outputId": "a944be15-1761-4b99-f745-8a1a97eae43d"
      },
      "execution_count": 14,
      "outputs": [
        {
          "output_type": "execute_result",
          "data": {
            "text/plain": [
              "dtype('int64')"
            ]
          },
          "metadata": {},
          "execution_count": 14
        }
      ]
    },
    {
      "cell_type": "code",
      "source": [
        "# Convert this into float32 data type\n",
        "reshaped_array_float = reshaped_array.astype(np.float32)\n",
        "reshaped_array_float.dtype"
      ],
      "metadata": {
        "colab": {
          "base_uri": "https://localhost:8080/"
        },
        "id": "wBbKpZhFZkBA",
        "outputId": "69371e03-dc01-4283-ab13-9840f2f7a2bc"
      },
      "execution_count": 15,
      "outputs": [
        {
          "output_type": "execute_result",
          "data": {
            "text/plain": [
              "dtype('float32')"
            ]
          },
          "metadata": {},
          "execution_count": 15
        }
      ]
    },
    {
      "cell_type": "code",
      "source": [
        "# 2) linspace function\n",
        "linspace_arr = np.linspace(1,5,4)\n",
        "linspace_arr"
      ],
      "metadata": {
        "colab": {
          "base_uri": "https://localhost:8080/"
        },
        "id": "8k-tKk5oaPFv",
        "outputId": "73625d9a-9260-4a8c-bcaa-7681f4964b27"
      },
      "execution_count": 16,
      "outputs": [
        {
          "output_type": "execute_result",
          "data": {
            "text/plain": [
              "array([1.        , 2.33333333, 3.66666667, 5.        ])"
            ]
          },
          "metadata": {},
          "execution_count": 16
        }
      ]
    },
    {
      "cell_type": "code",
      "source": [
        "# Array of zeroes\n",
        "array_of_zeros = np.zeros((2,2))\n",
        "print(array_of_zeros)"
      ],
      "metadata": {
        "colab": {
          "base_uri": "https://localhost:8080/"
        },
        "id": "f75oN-TrfIUo",
        "outputId": "d4280473-210c-49d4-ba7d-9ff98b74a574"
      },
      "execution_count": 17,
      "outputs": [
        {
          "output_type": "stream",
          "name": "stdout",
          "text": [
            "[[0. 0.]\n",
            " [0. 0.]]\n"
          ]
        }
      ]
    },
    {
      "cell_type": "code",
      "source": [
        "# Array of ones\n",
        "arrays_of_ones = np.ones((3,3))\n",
        "print(arrays_of_ones)"
      ],
      "metadata": {
        "colab": {
          "base_uri": "https://localhost:8080/"
        },
        "id": "Q8xwQcwlfb61",
        "outputId": "509097bc-d373-4040-8924-ea4c71aa8fd5"
      },
      "execution_count": 18,
      "outputs": [
        {
          "output_type": "stream",
          "name": "stdout",
          "text": [
            "[[1. 1. 1.]\n",
            " [1. 1. 1.]\n",
            " [1. 1. 1.]]\n"
          ]
        }
      ]
    },
    {
      "cell_type": "markdown",
      "source": [
        "# Create arrays of Random numbers"
      ],
      "metadata": {
        "id": "1eYosohngkmH"
      }
    },
    {
      "cell_type": "code",
      "source": [
        "# array of random numbers between 0(inclusive) and 1(exclusive)\n",
        "np.random.rand(2,2) # The 2 is no. of rows, and the other 2 is no. of columns"
      ],
      "metadata": {
        "colab": {
          "base_uri": "https://localhost:8080/"
        },
        "id": "7QM9xxDDgnas",
        "outputId": "208cd85f-0f1d-4a1f-dbfc-bd3c8a840551"
      },
      "execution_count": 19,
      "outputs": [
        {
          "output_type": "execute_result",
          "data": {
            "text/plain": [
              "array([[0.76483993, 0.17124539],\n",
              "       [0.17543111, 0.51744735]])"
            ]
          },
          "metadata": {},
          "execution_count": 19
        }
      ]
    },
    {
      "cell_type": "code",
      "source": [
        "np.random.rand(2)"
      ],
      "metadata": {
        "colab": {
          "base_uri": "https://localhost:8080/"
        },
        "id": "EZ1G6v1FhKds",
        "outputId": "a9cc0f4a-0b56-4c61-a655-9dd5496b60fb"
      },
      "execution_count": 20,
      "outputs": [
        {
          "output_type": "execute_result",
          "data": {
            "text/plain": [
              "array([0.80166173, 0.62550331])"
            ]
          },
          "metadata": {},
          "execution_count": 20
        }
      ]
    },
    {
      "cell_type": "code",
      "source": [
        "# array of random integers between two limits\n",
        "np.random.randint(low=0, high=11, size=(2,2))"
      ],
      "metadata": {
        "colab": {
          "base_uri": "https://localhost:8080/"
        },
        "id": "4IgvzySHhiiC",
        "outputId": "296e5108-ed11-4559-817b-039e68c5d9ba"
      },
      "execution_count": 21,
      "outputs": [
        {
          "output_type": "execute_result",
          "data": {
            "text/plain": [
              "array([[1, 6],\n",
              "       [3, 2]])"
            ]
          },
          "metadata": {},
          "execution_count": 21
        }
      ]
    },
    {
      "cell_type": "code",
      "source": [
        "# Fix the array with the same type of randomness\n",
        "np.random.seed(11)\n",
        "np.random.randint(low=0, high=11, size=(2,2))"
      ],
      "metadata": {
        "colab": {
          "base_uri": "https://localhost:8080/"
        },
        "id": "9vUA-ETMh5z4",
        "outputId": "749603e1-cb44-494e-f9f2-ef3c2042ba43"
      },
      "execution_count": 22,
      "outputs": [
        {
          "output_type": "execute_result",
          "data": {
            "text/plain": [
              "array([[9, 0],\n",
              "       [1, 7]])"
            ]
          },
          "metadata": {},
          "execution_count": 22
        }
      ]
    },
    {
      "cell_type": "markdown",
      "source": [
        "# Create the first visualization using matplotlib.pyplot"
      ],
      "metadata": {
        "id": "lj5dPFbXzObM"
      }
    },
    {
      "cell_type": "code",
      "source": [
        "# Create a data to generate a line plot\n",
        "x = np.linspace(-10, 10, 500)\n",
        "y = x**2"
      ],
      "metadata": {
        "id": "jnR2NM37zXN6"
      },
      "execution_count": 29,
      "outputs": []
    },
    {
      "cell_type": "code",
      "source": [
        "print(np.array([1,2,3])**2)"
      ],
      "metadata": {
        "colab": {
          "base_uri": "https://localhost:8080/"
        },
        "id": "SJkX02Ud0Vi2",
        "outputId": "8e5e9815-2dbd-4d13-a218-38e042cb617a"
      },
      "execution_count": 25,
      "outputs": [
        {
          "output_type": "stream",
          "name": "stdout",
          "text": [
            "[1 4 9]\n"
          ]
        }
      ]
    },
    {
      "cell_type": "code",
      "source": [
        "# Creating a line plot of a quadratic curve using the above data\n",
        "plt.plot(x,y)\n",
        "plt.show()"
      ],
      "metadata": {
        "colab": {
          "base_uri": "https://localhost:8080/",
          "height": 430
        },
        "id": "VcSi1iPa2VhF",
        "outputId": "733afe17-4ad4-4d30-b938-9236462969fe"
      },
      "execution_count": 30,
      "outputs": [
        {
          "output_type": "display_data",
          "data": {
            "text/plain": [
              "<Figure size 640x480 with 1 Axes>"
            ],
            "image/png": "[encoded data removed]"
          },
          "metadata": {}
        }
      ]
    },
    {
      "cell_type": "code",
      "source": [
        "x = np.linspace(-10, 10, 15)\n",
        "y = x**2\n",
        "plt.scatter(x,y)\n",
        "plt.show()"
      ],
      "metadata": {
        "colab": {
          "base_uri": "https://localhost:8080/",
          "height": 430
        },
        "id": "X99nYdtc2oUZ",
        "outputId": "36301daf-c8ae-4f08-eca0-c70aa69428a7"
      },
      "execution_count": 32,
      "outputs": [
        {
          "output_type": "display_data",
          "data": {
            "text/plain": [
              "<Figure size 640x480 with 1 Axes>"
            ],
            "image/png": "[encoded data removed]"
          },
          "metadata": {}
        }
      ]
    },
    {
      "cell_type": "markdown",
      "source": [
        "# Customize the plots"
      ],
      "metadata": {
        "id": "rZYLXVFo9LGq"
      }
    },
    {
      "cell_type": "code",
      "source": [
        "# Create a data to generate a line plot\n",
        "x = np.linspace(-10, 10, 150)\n",
        "y = x**2\n",
        "\n",
        "# Create a lineplot of the quadratic curve using the above data\n",
        "plt.figure(figsize=(8,4))\n",
        "plt.grid()\n",
        "plt.plot(x,y)\n",
        "plt.title('Visualizing the quadratic data', color='red', weight='bold', fontsize=15)\n",
        "plt.xlabel('X - values created using linspace', color='m', fontsize=10)\n",
        "plt.ylabel('Y - values', color='m', fontsize=10)\n",
        "# plt.axis('off') removes the x and y axes\n",
        "plt.show()"
      ],
      "metadata": {
        "colab": {
          "base_uri": "https://localhost:8080/",
          "height": 412
        },
        "id": "nZDPXmEr9NS7",
        "outputId": "d965eeae-c832-409b-e5d8-2b45d7ff00f8"
      },
      "execution_count": 43,
      "outputs": [
        {
          "output_type": "display_data",
          "data": {
            "text/plain": [
              "<Figure size 800x400 with 1 Axes>"
            ],
            "image/png": "[encoded data removed]"
          },
          "metadata": {}
        }
      ]
    }
  ]
}